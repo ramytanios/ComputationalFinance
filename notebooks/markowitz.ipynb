{
 "cells": [
  {
   "cell_type": "code",
   "execution_count": 1,
   "metadata": {},
   "outputs": [],
   "source": [
    "from typing import List\n",
    "import numpy as np"
   ]
  },
  {
   "cell_type": "code",
   "execution_count": 6,
   "metadata": {},
   "outputs": [],
   "source": [
    "def portfolio_return(weights: List[float], stocks_returns: List[float]) -> float: \n",
    "    \"\"\"Returns the expected return of a portfolio = weights .DOT. stocks_returns\"\"\"\n",
    "    return np.dot(weights, stocks_returns)"
   ]
  },
  {
   "cell_type": "code",
   "execution_count": 7,
   "metadata": {},
   "outputs": [],
   "source": [
    "def portfolio_variance(weights: List[float], covariance_matrix: List[List[float]]) -> float: \n",
    "    \"\"\"Returns the portfolio variance = weights.T .DOT. covarianceMatrix .DOT. weights\"\"\"\n",
    "    return np.dot(np.dot(weights, covariance_matrix), weights)"
   ]
  }
 ],
 "metadata": {
  "interpreter": {
   "hash": "b0fa6594d8f4cbf19f97940f81e996739fb7646882a419484c72d19e05852a7e"
  },
  "kernelspec": {
   "display_name": "Python 3.9.10 64-bit",
   "language": "python",
   "name": "python3"
  },
  "language_info": {
   "codemirror_mode": {
    "name": "ipython",
    "version": 3
   },
   "file_extension": ".py",
   "mimetype": "text/x-python",
   "name": "python",
   "nbconvert_exporter": "python",
   "pygments_lexer": "ipython3",
   "version": "3.9.10"
  },
  "orig_nbformat": 4
 },
 "nbformat": 4,
 "nbformat_minor": 2
}
